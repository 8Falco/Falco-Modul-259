4.1 Bestimmen Sie, welche Felder Ihrer Daten für Ihr Modell besonders
aussagekräftig sind.
Ich würde sagen, die Diagramme sind sehr aussagekräftig.
-- Das sehen sie im File LB_259_Falco_8.ipynb --


4.2 Wählen Sie eine geeignete Messmetrik für Ihr Modell und berechnen
Sie sie.
-- Das sehen sie im File LB_259_Falco_8.ipynb --

4.3 Wählen Sie geeignete Bedingungen und erstellen Sie eine
Wahrheitsmatrix für Ihr Modell. Berechnen Sie darüber hinaus Sensitivität
und Spezifizität.


4.4 Fassen Sie in 50 bis 100 Wörtern zusammen, wie gut Ihr Modell
funktioniert, und stellen Sie Hypothesen auf, warum.

-- Das Prophet-Modell hat ziemlich gut funktioniert und konnte 
ziemlich genau vorhersagen, wie viele Leute Fahrräder in London 
ausleihen. Es hat sich die Jahreszeiten, Ferien und Feiertage
berücksichtigt. Aber um sicher zu sein, müssten wir vielleicht
noch andere Sachen checken, wie zum Beispiel das Wetter oder ob
es Wochenende ist. Das Modell hat auf jeden Fall geholfen, die 
Vorhersagen zu machen, und es ist cool zu sehen, wie sowas funktioniert! --
