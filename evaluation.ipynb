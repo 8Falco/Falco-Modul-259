4.1 Bestimmen Sie, welche Felder Ihrer Daten für Ihr Modell besonders
aussagekräftig sind.


4.2 Wählen Sie eine geeignete Messmetrik für Ihr Modell und berechnen
Sie sie.


4.3 Wählen Sie geeignete Bedingungen und erstellen Sie eine
Wahrheitsmatrix für Ihr Modell. Berechnen Sie darüber hinaus Sensitivität
und Spezifizität.


4.4 Fassen Sie in 50 bis 100 Wörtern zusammen, wie gut Ihr Modell
funktioniert, und stellen Sie Hypothesen auf, warum.

