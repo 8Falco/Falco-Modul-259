3.1 Teilen Sie Ihren Datensatz in einen test- und einen train-Satz ein.
-- Um den Datensatz in einen Trainings- und Testdatensatz aufzuteilen,
benutzen wir den Zeitpunkt als Trennungspunkt. Die Daten gehen bis
zum 3. Januar 2017. Für das Training nehmen wir die Daten bis zu 
diesem Datum, und für das Testen nehmen wir die Daten danach.

Den rest sehen sie im File LB_259_Falco_8.ipynb --

3.2 Bestimmen Sie einen Algorithmus aus sklearn, der für Ihren
Datensatz und Ihr Problem geeignet ist. Erklären Sie Ihre Entscheidung in
50 bis 100 Wörtern. Alternativ dazu können Sie auch verschiedene
Algorithmen evaluieren und so bestimmen, welcher am besten geeignet ist.
Berechnen Sie ein Modell mittels Ihres ausgesuchten Algorithmus auf Ihren
train-Daten.
-- Ich habe den Random Forest Regressor ausgewählt, weil er gut für die
Vorhersage von Zeitreihen ist.  Mit diesem Algorithmus können wir 
genauere Vorhersagen machen und besser verstehen, wie sich die 
Eingabevariablen auf die Zielvariable auswirken. Dazu ist Random 
Forest auch noch sehr stabil. --

3.3 Testen Sie, wie gut Ihr Modell funktioniert, indem Sie einige
Vorhersagen aus dem test-Datensatz generieren und diese manuell auf ihre
Sinnhaftigkeit überprüfen. Fassen Sie Ihre Erkenntnisse in 50 bis 100
Wörtern zusammen.
-- Die Vorhersagen waren ziemlich gut. Das Modell konnte die Muster und 
Trends der Fahrradvermietungen erkennen. Die Muster waren mehrheitlich
übersichtlich und klar erkennbar. Es gab nur einige wenige 
unerklärliche Ergebnisse. Insgesamt war das Modell in Ordnung 
und lieferte tolle Vorhersagen. --
