2.1 Für welches Daten-Feld möchten Sie Vorhersagen treffen können? 
-- Das sehen sie im File LB_259_Falco_8.ipynb --


2.2 Bestimmen Sie für jedes Feld einige relevanten statistischen
Informationen wie beispielsweise Median und Standardabweichung. 
-- Das sehen sie im File LB_259_Falco_8.ipynb --


2.3 Erstellen Sie mindestens eine Grafik, beispielsweise ein Histogramm für
eines der Datenfelder oder eine Regression für mehrere Felder.
-- Das sehen sie im File LB_259_Falco_8.ipynb --


2.4 Skalieren Sie mindestens ein Datenfeld; oder argumentieren Sie in
weiteren 50 bis 100 Wörtern in Ihrem Notizbuch, warum dies bei Ihrem
Datensatz nicht sinnvoll ist.
-- Die Daten, die wir haben, zeigen uns, wie viele Fahrräder pro Tag in
London ausgeliehen wurden. Diese Zahlen sind bereits nützlich und wir
können sie verstehen, ohne sie weiter anzupassen. Wir können sehen, 
wie viele Fahrräder an jedem Tag ausgeliehen wurden, und das gibt uns
einen guten Überblick. Es scheint also keine Notwendigkeit zu geben,
die Zahlen noch mehr anzupassen oder zu skalieren. --
